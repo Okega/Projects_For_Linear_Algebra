{
  "nbformat": 4,
  "nbformat_minor": 0,
  "metadata": {
    "colab": {
      "name": "Practice with Gram Schmidt Process.ipynb",
      "provenance": [],
      "collapsed_sections": [],
      "include_colab_link": true
    },
    "kernelspec": {
      "name": "python3",
      "display_name": "Python 3"
    }
  },
  "cells": [
    {
      "cell_type": "markdown",
      "metadata": {
        "id": "view-in-github",
        "colab_type": "text"
      },
      "source": [
        "<a href=\"https://colab.research.google.com/github/Okega/Projects_For_Linear_Algebra/blob/master/Practice_with_Gram_Schmidt_Process.ipynb\" target=\"_parent\"><img src=\"https://colab.research.google.com/assets/colab-badge.svg\" alt=\"Open In Colab\"/></a>"
      ]
    },
    {
      "cell_type": "code",
      "metadata": {
        "id": "TXMv3l0X-SNN"
      },
      "source": [
        "# import the numpy library....\n",
        "\n",
        "import matplotlib.pyplot as plt\n",
        "from sympy import Poly\n",
        "import sympy as sym\n",
        "import numpy as np\n",
        "from numpy import c_\n",
        "\n",
        "# We'll specify that x and t are variables:\n",
        "x, t = sym.symbols('x, t')\n",
        "\n",
        "ll = \"loaded\""
      ],
      "execution_count": 1,
      "outputs": []
    },
    {
      "cell_type": "code",
      "metadata": {
        "id": "SLPvYqM4-ogb",
        "outputId": "a3c91abf-edd5-43b5-b6db-681e0fc046fd",
        "colab": {
          "base_uri": "https://localhost:8080/",
          "height": 34
        }
      },
      "source": [
        "#  How do I do a dot product?\n",
        "np.dot([ 1, 2], [ 3, 4])\n",
        "\n",
        "# How do I find the magnitude in np?\n",
        "np.sqrt(np.dot([1,2],[1,2]))"
      ],
      "execution_count": null,
      "outputs": [
        {
          "output_type": "execute_result",
          "data": {
            "text/plain": [
              "11"
            ]
          },
          "metadata": {
            "tags": []
          },
          "execution_count": 6
        }
      ]
    },
    {
      "cell_type": "code",
      "metadata": {
        "id": "QudEaC_f-wxD",
        "outputId": "ddcba1fe-36d2-4e01-c8ec-f8568427f92e",
        "colab": {
          "base_uri": "https://localhost:8080/",
          "height": 34
        }
      },
      "source": [
        "#  Define the original vectors:\n",
        "\n",
        "r1 = [ 0, 3, -3, 0 ]\n",
        "r2 = [ 2, 6, -2, 2]\n",
        "r3 = [ -2, 1, -3, 0]\n",
        "r4 = [ 2, -4, -2, -4]\n",
        "\n",
        "# Look at r1:\n",
        "r1\n"
      ],
      "execution_count": 2,
      "outputs": [
        {
          "output_type": "execute_result",
          "data": {
            "text/plain": [
              "[0, 3, -3, 0]"
            ]
          },
          "metadata": {
            "tags": []
          },
          "execution_count": 2
        }
      ]
    },
    {
      "cell_type": "code",
      "metadata": {
        "id": "RyVRQzxU_Hlr",
        "outputId": "ea1a2218-4eb6-4fbf-e395-48a6aba2c95e",
        "colab": {
          "base_uri": "https://localhost:8080/",
          "height": 34
        }
      },
      "source": [
        "#  Find the first nice basis vector u1:\n",
        "\n",
        "# 1:  Pick a new vector\n",
        "r1\n",
        "\n",
        "# 2:  Subtract the projection of r1 onto the nice basis  u1, u2, u3...\n",
        "#     and save this as a temp vector n1\n",
        "n1 = r1\n",
        "n1\n",
        "\n",
        "# 3:  Find the magnitude of n1\n",
        "np.sqrt(np.dot(n1, n1))\n",
        "\n",
        "# 4:  Create the nice basis vector u1 = 1/ | n1 |  * n1\n",
        "u1 = n1 / np.sqrt(np.dot(n1,n1))\n",
        "u1\n"
      ],
      "execution_count": 3,
      "outputs": [
        {
          "output_type": "execute_result",
          "data": {
            "text/plain": [
              "array([ 0.        ,  0.70710678, -0.70710678,  0.        ])"
            ]
          },
          "metadata": {
            "tags": []
          },
          "execution_count": 3
        }
      ]
    },
    {
      "cell_type": "code",
      "metadata": {
        "id": "u9CfZIpP_v6W",
        "outputId": "720680b8-e870-4b8a-ec31-a1d9965efb8c",
        "colab": {
          "base_uri": "https://localhost:8080/",
          "height": 34
        }
      },
      "source": [
        "# Check that u1 has magnitude 1:\n",
        "np.dot(u1, u1)"
      ],
      "execution_count": 4,
      "outputs": [
        {
          "output_type": "execute_result",
          "data": {
            "text/plain": [
              "1.0000000000000002"
            ]
          },
          "metadata": {
            "tags": []
          },
          "execution_count": 4
        }
      ]
    },
    {
      "cell_type": "code",
      "metadata": {
        "id": "7vvz8pFVAYqu",
        "outputId": "e80b5d8e-d9f4-4151-ece4-724e91ccd491",
        "colab": {
          "base_uri": "https://localhost:8080/",
          "height": 34
        }
      },
      "source": [
        "#  Find the second nice basis vector u2:\n",
        "\n",
        "# 1:  Pick a new vector\n",
        "r2\n",
        "\n",
        "# 2:  Subtract the projection of r2 onto the nice basis  u1, u2, u3...\n",
        "#     and save this as a temp vector n2\n",
        "n2 = r2 - np.dot(r2, u1) * u1\n",
        "n2\n",
        "\n",
        "# 3:  Find the magnitude of n2\n",
        "np.sqrt(np.dot(n2, n2))\n",
        "\n",
        "# 4:  Create the nice basis vector u2 = 1/ | n2 |  * n2\n",
        "u2 = n2 / np.sqrt(np.dot(n2,n2))\n",
        "u2"
      ],
      "execution_count": 5,
      "outputs": [
        {
          "output_type": "execute_result",
          "data": {
            "text/plain": [
              "array([0.5, 0.5, 0.5, 0.5])"
            ]
          },
          "metadata": {
            "tags": []
          },
          "execution_count": 5
        }
      ]
    },
    {
      "cell_type": "code",
      "metadata": {
        "id": "E8MSoEgLApb2",
        "outputId": "b95049c1-967f-437c-efef-cd07190ed0d9",
        "colab": {
          "base_uri": "https://localhost:8080/",
          "height": 34
        }
      },
      "source": [
        "#  Check that u1 and u2 are orthogonal:\n",
        "np.dot(u1, u2)\n",
        "\n",
        "# Check that u2 has magnitude 1:\n",
        "np.dot(u2, u2)"
      ],
      "execution_count": 7,
      "outputs": [
        {
          "output_type": "execute_result",
          "data": {
            "text/plain": [
              "1.0"
            ]
          },
          "metadata": {
            "tags": []
          },
          "execution_count": 7
        }
      ]
    },
    {
      "cell_type": "code",
      "metadata": {
        "id": "Q5qfh3DBA6aG",
        "outputId": "05c4e3c1-3972-4578-85e6-4f5822b6b676",
        "colab": {
          "base_uri": "https://localhost:8080/",
          "height": 34
        }
      },
      "source": [
        "# Find the third nice basis vector u3:\n",
        "\n",
        "# 1:  Pick a new vector\n",
        "r3\n",
        "\n",
        "# 2:  Subtract the projection of r3 onto the nice basis  u1, u2, ...\n",
        "#     and save this as a temp vector n3\n",
        "n3 = r3 - np.dot(r3, u1) * u1 - np.dot(r3, u2) * u2\n",
        "n3\n",
        "\n",
        "# 3:  Find the magnitude of n2\n",
        "np.sqrt(np.dot(n3, n3))\n",
        "\n",
        "# 4:  Create the nice basis vector u3 = 1/ | n3 |  * n3\n",
        "u3 = n3 / np.sqrt(np.dot(n3,n3))\n",
        "u3"
      ],
      "execution_count": 8,
      "outputs": [
        {
          "output_type": "execute_result",
          "data": {
            "text/plain": [
              "array([-7.07106781e-01, -3.14018492e-16,  9.42055475e-16,  7.07106781e-01])"
            ]
          },
          "metadata": {
            "tags": []
          },
          "execution_count": 8
        }
      ]
    },
    {
      "cell_type": "code",
      "metadata": {
        "id": "OS6-dBU7BO1m",
        "outputId": "3b829c51-545f-4aef-9d08-80c2c142dd3b",
        "colab": {
          "base_uri": "https://localhost:8080/",
          "height": 68
        }
      },
      "source": [
        "#  Check that u3 is orthogonal to u1 and u2\n",
        "print(np.dot(u1, u3))\n",
        "print(np.dot(u2, u3))\n",
        "print(np.dot(u3,u3))"
      ],
      "execution_count": 9,
      "outputs": [
        {
          "output_type": "stream",
          "text": [
            "-8.881784197001252e-16\n",
            "6.106226635438361e-16\n",
            "0.9999999999999998\n"
          ],
          "name": "stdout"
        }
      ]
    },
    {
      "cell_type": "code",
      "metadata": {
        "id": "8MM-zytTBhfm",
        "outputId": "a7753c48-0b03-4a88-fb1f-37ff9ac06218",
        "colab": {
          "base_uri": "https://localhost:8080/",
          "height": 34
        }
      },
      "source": [
        "# Find the third nice basis vector u4:\n",
        "\n",
        "# 1:  Pick a new vector\n",
        "r4\n",
        "\n",
        "# 2:  Subtract the projection of r4 onto the nice basis  u1, u2, u3 ...\n",
        "#     and save this as a temp vector n4\n",
        "n4 = r4 - np.dot(r4, u1) * u1 - np.dot(r4, u2) * u2 - np.dot(r4, u3) * u3\n",
        "n4\n",
        "\n",
        "# 3:  Find the magnitude of n4\n",
        "np.sqrt(np.dot(n4, n4))\n",
        "\n",
        "# 4:  Create the nice basis vector u4 = 1/ | n4 |  * n4\n",
        "u4 = n4 / np.sqrt(np.dot(n4,n4))\n",
        "u4"
      ],
      "execution_count": 10,
      "outputs": [
        {
          "output_type": "execute_result",
          "data": {
            "text/plain": [
              "array([ 0.5, -0.5, -0.5,  0.5])"
            ]
          },
          "metadata": {
            "tags": []
          },
          "execution_count": 10
        }
      ]
    },
    {
      "cell_type": "code",
      "metadata": {
        "id": "-YH83yi_B3TW",
        "outputId": "8f2c258c-95fa-4ec5-d459-b737a66faa57",
        "colab": {
          "base_uri": "https://localhost:8080/",
          "height": 85
        }
      },
      "source": [
        "# Check that u4 is orthogonal to u1, u2, and u3\n",
        "# and check that |u4| = 1\n",
        "print(np.dot(u4, u1))\n",
        "print(np.dot(u4, u2))\n",
        "print(np.dot(u4, u3))\n",
        "print(np.dot(u4, u4))\n"
      ],
      "execution_count": 11,
      "outputs": [
        {
          "output_type": "stream",
          "text": [
            "-2.4424906541753444e-15\n",
            "1.1657341758564144e-15\n",
            "5.551115123125783e-17\n",
            "0.9999999999999999\n"
          ],
          "name": "stdout"
        }
      ]
    },
    {
      "cell_type": "code",
      "metadata": {
        "id": "5E1Mx7OOCPi_"
      },
      "source": [
        ""
      ],
      "execution_count": null,
      "outputs": []
    }
  ]
}