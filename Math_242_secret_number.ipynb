{
  "nbformat": 4,
  "nbformat_minor": 0,
  "metadata": {
    "colab": {
      "name": "Math_242_secret_number.ipynb",
      "provenance": [],
      "collapsed_sections": [],
      "include_colab_link": true
    },
    "kernelspec": {
      "name": "python3",
      "display_name": "Python 3"
    }
  },
  "cells": [
    {
      "cell_type": "markdown",
      "metadata": {
        "id": "view-in-github",
        "colab_type": "text"
      },
      "source": [
        "<a href=\"https://colab.research.google.com/github/Okega/Projects_For_Linear_Algebra/blob/master/Math_242_secret_number.ipynb\" target=\"_parent\"><img src=\"https://colab.research.google.com/assets/colab-badge.svg\" alt=\"Open In Colab\"/></a>"
      ]
    },
    {
      "cell_type": "markdown",
      "metadata": {
        "id": "Ry_o-kLL_-wf"
      },
      "source": [
        "# Load the preliminary code"
      ]
    },
    {
      "cell_type": "code",
      "metadata": {
        "id": "dhOLtwrRRc9S"
      },
      "source": [
        "import matplotlib.pyplot as plt\n",
        "from sympy import Poly\n",
        "import sympy as sym\n",
        "import numpy as np\n",
        "from numpy import c_\n",
        "\n",
        "# We'll specify that x and t are variables:\n",
        "x, t = sym.symbols('x, t')\n",
        "\n",
        "ll = \"loaded\""
      ],
      "execution_count": 7,
      "outputs": []
    },
    {
      "cell_type": "code",
      "metadata": {
        "id": "AHRXKhal_Wcj",
        "outputId": "ea0ae65f-6b74-4484-9581-70e1b0c4c9f6",
        "colab": {
          "base_uri": "https://localhost:8080/",
          "height": 34
        }
      },
      "source": [
        "lll = \" correctly!\"\n",
        "\n",
        "def rref(matrix):\n",
        "    A = np.array(matrix, dtype=np.float64)\n",
        "    \n",
        "    r = 0 #row\n",
        "    c = 0 #column\n",
        "\n",
        "    (maxr, maxc) = A.shape\n",
        "\n",
        "    prev_row_pivot = -1   # The previous row with a leading term:\n",
        "    tmp_pivot_row = -1\n",
        "    this_pivot_row = -1\n",
        "\n",
        "    for c in range(maxc):  # go through each column\n",
        "      tmp_pivot_row = -1  # reset the tmp pivot row\n",
        "      this_pivot_row = -1  # reset this pivot row\n",
        "      for r in range(maxr):  # Find the leading term in this column below prev_row_pivot\n",
        "        if ((r > prev_row_pivot) and (A[r][c] != 0.0)):\n",
        "          tmp_pivot_row = r  # find the new pivot row\n",
        "      if (tmp_pivot_row > -1):  # we found a candidate for the leading term:\n",
        "        #swap row this_pivot_row with (prev_row_pivot + 1)\n",
        "        A[[tmp_pivot_row, prev_row_pivot+1]] = A[[prev_row_pivot + 1, tmp_pivot_row]]\n",
        "        #set this_pivot_row to prev_row_pivot+1\n",
        "        this_pivot_row = prev_row_pivot + 1\n",
        "        #Now, normalize the row based on the pivot value:\n",
        "        A[ this_pivot_row ] = A[ this_pivot_row ] / A[ this_pivot_row ][c]\n",
        "        #Then, use this row to force 0's above and below the pivot entry:\n",
        "        #subtract multiples of of the this_pivot_row row from the others\n",
        "        for r_ in range(len(A)):\n",
        "            if r_ != this_pivot_row:\n",
        "                A[r_] = A[r_] - A[this_pivot_row] * A[r_][c] / A[this_pivot_row][c]\n",
        "        prev_row_pivot = this_pivot_row\n",
        "    return A    \n",
        "    \n",
        "    \n",
        "\n",
        "print(\">> The page \", ll, lll)"
      ],
      "execution_count": 8,
      "outputs": [
        {
          "output_type": "stream",
          "text": [
            ">> The page  loaded  correctly!\n"
          ],
          "name": "stdout"
        }
      ]
    },
    {
      "cell_type": "markdown",
      "metadata": {
        "id": "xVLAg1tp7aJX"
      },
      "source": [
        "# Set up the secret number"
      ]
    },
    {
      "cell_type": "markdown",
      "metadata": {
        "id": "2c12Csd440sV"
      },
      "source": [
        "You'll encode a secret number $s$ into a 4th or 5th degree polynomial as its vertical intercept.\n",
        "\n",
        "Once you've chosen $s$, then create a 4th or 5th degree polynomial $f$ such that the vertical intercept is $s$.\n"
      ]
    },
    {
      "cell_type": "code",
      "metadata": {
        "id": "bSeZFmS4vQWk",
        "outputId": "d94fac7a-1dbf-470b-a94e-2c45f539a6bd",
        "colab": {
          "base_uri": "https://localhost:8080/",
          "height": 34
        }
      },
      "source": [
        "# the secret number is s:\n",
        "\n",
        "s = 14\n",
        "\n",
        "p = Poly(14+2*x + 3*x**18, x, domain='RR')\n",
        "\n",
        "p"
      ],
      "execution_count": null,
      "outputs": [
        {
          "output_type": "execute_result",
          "data": {
            "text/plain": [
              "Poly(3.0*x**18 + 2.0*x + 14.0, x, domain='RR')"
            ]
          },
          "metadata": {
            "tags": []
          },
          "execution_count": 4
        }
      ]
    },
    {
      "cell_type": "code",
      "metadata": {
        "id": "buHLWqEJ5Hds",
        "outputId": "7c5515d5-7f25-4747-98c9-86a600503348",
        "colab": {
          "base_uri": "https://localhost:8080/",
          "height": 34
        }
      },
      "source": [
        "#  Evaluate polynomial at 0:\n",
        "p.eval(x, 2.1)\n",
        "\n",
        "# Check that this is your secret number:"
      ],
      "execution_count": null,
      "outputs": [
        {
          "output_type": "execute_result",
          "data": {
            "text/plain": [
              "1892660.57719015"
            ]
          },
          "metadata": {
            "tags": []
          },
          "execution_count": 5
        }
      ]
    },
    {
      "cell_type": "markdown",
      "metadata": {
        "id": "ls3V1Lrnyr2P"
      },
      "source": [
        "# Generate your data points\n",
        "\n",
        "Use this code to generate the data points for your polynomial.  Write teh data on the second page of your handout.  \n",
        "\n",
        "Writing \n",
        "\n",
        "```\n",
        "p.eval(x, 3)\n",
        "```\n",
        "\n",
        "will evaluate $p$ when $x = 3$.  Just change the $3$ to any value to evaluate $p$ at that input.\n",
        "\n",
        "Remember:  Keep your secret number and polynomial hidden."
      ]
    },
    {
      "cell_type": "code",
      "metadata": {
        "id": "5Ef1euoHynYu",
        "outputId": "d538b710-02eb-4536-f7b5-b3a1bf28b745",
        "colab": {
          "base_uri": "https://localhost:8080/",
          "height": 34
        }
      },
      "source": [
        "p.eval(x, 3)"
      ],
      "execution_count": null,
      "outputs": [
        {
          "output_type": "execute_result",
          "data": {
            "text/plain": [
              "1162261487.00000"
            ]
          },
          "metadata": {
            "tags": []
          },
          "execution_count": 6
        }
      ]
    },
    {
      "cell_type": "markdown",
      "metadata": {
        "id": "a6e9mXs-z3qV"
      },
      "source": [
        "#  Decode the polynomial from another group\n",
        "\n",
        "In this section, we set up a linear system to find the polynomial and the secret number which was given to us by another group.\n",
        "\n",
        "First, set up a linear algebra system to find the polynomial on the handout and then enter the matrix here.  You may have to adjust the size of the matrix below to accommodate your data."
      ]
    },
    {
      "cell_type": "code",
      "metadata": {
        "id": "aC4OSnZ20YDh",
        "outputId": "a9ab1cc5-d5d5-4110-c5dc-8f3e4e7d5e8e",
        "colab": {
          "base_uri": "https://localhost:8080/",
          "height": 221
        }
      },
      "source": [
        "# create the matrix:\n",
        "A = np.matrix([[-3125, 625, -125, 25, -5, 1],\n",
        "               [-243, 81, -27, 9, -3, 1],\n",
        "               [-1, 1, -1, 1, -1, 1],\n",
        "               [1, 1, 1, 1, 1, 1],\n",
        "               [243, 81, 27, 9, 3, 1],\n",
        "               [3125, 625, 125, 25, 5, 1]])\n",
        " \n",
        "# create the vector for the right hand side:\n",
        "b = np.matrix([[9353.57], [851.1786], [10.831], [-0.89558], [-455.7587], [-6469.8827]])\n",
        "\n",
        "#Make sure the system looks appropriate:\n",
        "\n",
        "print(np.c_[A,b])"
      ],
      "execution_count": 9,
      "outputs": [
        {
          "output_type": "stream",
          "text": [
            "[[-3.1250000e+03  6.2500000e+02 -1.2500000e+02  2.5000000e+01\n",
            "  -5.0000000e+00  1.0000000e+00  9.3535700e+03]\n",
            " [-2.4300000e+02  8.1000000e+01 -2.7000000e+01  9.0000000e+00\n",
            "  -3.0000000e+00  1.0000000e+00  8.5117860e+02]\n",
            " [-1.0000000e+00  1.0000000e+00 -1.0000000e+00  1.0000000e+00\n",
            "  -1.0000000e+00  1.0000000e+00  1.0831000e+01]\n",
            " [ 1.0000000e+00  1.0000000e+00  1.0000000e+00  1.0000000e+00\n",
            "   1.0000000e+00  1.0000000e+00 -8.9558000e-01]\n",
            " [ 2.4300000e+02  8.1000000e+01  2.7000000e+01  9.0000000e+00\n",
            "   3.0000000e+00  1.0000000e+00 -4.5575870e+02]\n",
            " [ 3.1250000e+03  6.2500000e+02  1.2500000e+02  2.5000000e+01\n",
            "   5.0000000e+00  1.0000000e+00 -6.4698827e+03]]\n"
          ],
          "name": "stdout"
        }
      ]
    },
    {
      "cell_type": "markdown",
      "metadata": {
        "id": "EDZT8emc5iGZ"
      },
      "source": [
        "##  Solve using Row Operations:\n",
        "\n",
        "We'll solve the augmented matrix  $\\left( A \\, | \\, \\vec{b} \\right)$ using the function\n",
        "\n",
        "```\n",
        "rref(np.c_[A,b])\n",
        "```\n",
        "\n",
        "to provide the reduced row echelon form of the matrix system $\\left(A \\, | \\, \\vec{b} \\right)$.\n"
      ]
    },
    {
      "cell_type": "code",
      "metadata": {
        "id": "9Qhe2zZjYAVL",
        "outputId": "e2c896cf-121a-4653-f40e-da287125b752",
        "colab": {
          "base_uri": "https://localhost:8080/",
          "height": 221
        }
      },
      "source": [
        "print(rref(np.c_[A,b]))"
      ],
      "execution_count": 10,
      "outputs": [
        {
          "output_type": "stream",
          "text": [
            "[[ 1.          0.          0.          0.          0.          0.\n",
            "  -2.4494875 ]\n",
            " [ 0.          1.          0.          0.          0.          0.\n",
            "   2.23606568]\n",
            " [ 0.          0.          1.          0.          0.          0.\n",
            "  -2.00007417]\n",
            " [ 0.          0.          0.          1.          0.          0.\n",
            "   1.73212323]\n",
            " [ 0.          0.          0.          0.          1.          0.\n",
            "  -1.41372833]\n",
            " [-0.         -0.         -0.         -0.         -0.          1.\n",
            "   0.99952109]]\n"
          ],
          "name": "stdout"
        }
      ]
    },
    {
      "cell_type": "markdown",
      "metadata": {
        "id": "6xHgTqYr1fuP"
      },
      "source": [
        "## Solve the system using numerical methods:\n",
        "\n",
        "We can also generate a solution using some more advanced numerical linear algebra techniques contained inside Numpy.\n",
        "\n",
        "To solve it this way, use:\n",
        "\n",
        "\n",
        "\n",
        "```\n",
        "np.linalg.solve(A,b)\n",
        "```\n",
        "\n"
      ]
    },
    {
      "cell_type": "code",
      "metadata": {
        "id": "769dXoztlBcx",
        "outputId": "8e30a0f6-da95-4cf0-f9b5-c32ad04d2100",
        "colab": {
          "base_uri": "https://localhost:8080/",
          "height": 119
        }
      },
      "source": [
        "# Solve the system using a numerical linear algebra solution:\n",
        "np.linalg.solve(A,b)"
      ],
      "execution_count": 11,
      "outputs": [
        {
          "output_type": "execute_result",
          "data": {
            "text/plain": [
              "matrix([[-2.4494875 ],\n",
              "        [ 2.23606568],\n",
              "        [-2.00007417],\n",
              "        [ 1.73212323],\n",
              "        [-1.41372833],\n",
              "        [ 0.99952109]])"
            ]
          },
          "metadata": {
            "tags": []
          },
          "execution_count": 11
        }
      ]
    },
    {
      "cell_type": "code",
      "metadata": {
        "id": "crge2bdP12O0"
      },
      "source": [
        ""
      ],
      "execution_count": null,
      "outputs": []
    }
  ]
}